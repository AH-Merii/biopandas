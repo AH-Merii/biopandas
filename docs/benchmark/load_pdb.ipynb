{
 "cells": [
  {
   "cell_type": "code",
   "execution_count": 1,
   "metadata": {
    "collapsed": false
   },
   "outputs": [],
   "source": [
    "%load_ext watermark\n",
    "%watermark -a 'Sebastian Raschka' -v -d -p biopython"
   ]
  },
  {
   "cell_type": "markdown",
   "metadata": {},
   "source": [
    "# Fetch Iridium Dataset"
   ]
  },
  {
   "cell_type": "code",
   "execution_count": 2,
   "metadata": {
    "collapsed": false
   },
   "outputs": [],
   "source": [
    "iridium_ht_codes = \"\"\"\n",
    "1A28, 1AI5, 1AZM, 1B9V, 1BR6, 1C1B, 1CTR, \n",
    "1CVU, 1CX2, 1D3H, 1DD7, 1DDS, 1EOC, 1EXA, \n",
    "1EZQ, 1F0S, 1F0T, 1F0U, 1FCX, 1FCZ, 1FH8, \n",
    "1FH9, 1FHD, 1FJS, 1FL3, 1FM6, 1FM9, 1FQ5, \n",
    "1FRP, 1FVT, 1G9V, 1GM8, 1GWX, 1H1P, 1H1S, \n",
    "1HDY, 1HGG, 1HGH, 1HGI, 1HGJ, 1HNN, 1HP0, \n",
    "1HQ2, 1HVY, 1HWI, 1HWW, 1IVB, 1IVD, 1IVE, \n",
    "1IVF, 1IY7, 1JD0, 1JLA, 1K1J, 1K3U, 1KE5, \n",
    "1L2S, 1L7F, 1LPZ, 1LQD, 1LRH, 1M2Z, 1MBI, \n",
    "1ML1, 1MMV, 1MQ6, 1MTS, 1MZC, 1N1M, 1N2J, \n",
    "1N2V, 1NAV, 1OF1, 1OF6, 1OQ5, 1OWE, 1OYT, \n",
    "1P2Y, 1P62, 1PBD, 1PMN, 1PSO, 1Q1G, 1Q41, \n",
    "1QHI, 1R58, 1R9O, 1ROB, 1S19, 1SQ5, 1TOW, \n",
    "1TT1, 1U4D, 1UKZ, 1ULB, 1UML, 1UNL, 1UOU, \n",
    "1V0P, 1W1P, 1W2G, 1X8X, 1XM6, 1XOQ, 1YDR, \n",
    "1YDS, 1YDT, 1YQY, 1YV3, 1YVF, 1YWR, 2ACK, \n",
    "2BR1, 2CTC, 2MCP, 2PCP, 2TMN, 3PTB, 4AAH, \n",
    "4COX, 4TS1\"\"\"\n",
    "\n",
    "iridium = [i.strip() for i in iridium_ht_codes.split(', ')]"
   ]
  },
  {
   "cell_type": "code",
   "execution_count": 3,
   "metadata": {
    "collapsed": false
   },
   "outputs": [
    {
     "name": "stdout",
     "output_type": "stream",
     "text": [
      "URL Error [Errno 60] Operation timed out\n"
     ]
    },
    {
     "ename": "TypeError",
     "evalue": "write() argument must be str, not None",
     "output_type": "error",
     "traceback": [
      "\u001b[0;31m---------------------------------------------------------------------------\u001b[0m",
      "\u001b[0;31mTypeError\u001b[0m                                 Traceback (most recent call last)",
      "\u001b[0;32m<ipython-input-3-0b03238950bd>\u001b[0m in \u001b[0;36m<module>\u001b[0;34m()\u001b[0m\n\u001b[1;32m     17\u001b[0m     \u001b[0mtxt\u001b[0m \u001b[0;34m=\u001b[0m \u001b[0mfetch_pdb\u001b[0m\u001b[0;34m(\u001b[0m\u001b[0mi\u001b[0m\u001b[0;34m)\u001b[0m\u001b[0;34m\u001b[0m\u001b[0m\n\u001b[1;32m     18\u001b[0m     \u001b[0;32mwith\u001b[0m \u001b[0mopen\u001b[0m\u001b[0;34m(\u001b[0m\u001b[0;34m'./iridium_ht/%s.pdb'\u001b[0m \u001b[0;34m%\u001b[0m \u001b[0mi\u001b[0m\u001b[0;34m,\u001b[0m \u001b[0;34m'w'\u001b[0m\u001b[0;34m)\u001b[0m \u001b[0;32mas\u001b[0m \u001b[0mf\u001b[0m\u001b[0;34m:\u001b[0m\u001b[0;34m\u001b[0m\u001b[0m\n\u001b[0;32m---> 19\u001b[0;31m         \u001b[0mf\u001b[0m\u001b[0;34m.\u001b[0m\u001b[0mwrite\u001b[0m\u001b[0;34m(\u001b[0m\u001b[0mtxt\u001b[0m\u001b[0;34m)\u001b[0m\u001b[0;34m\u001b[0m\u001b[0m\n\u001b[0m",
      "\u001b[0;31mTypeError\u001b[0m: write() argument must be str, not None"
     ]
    }
   ],
   "source": [
    "import urllib.request\n",
    "import os\n",
    "\n",
    "def fetch_pdb(pdb_code):   \n",
    "    txt = None\n",
    "    try:\n",
    "        response = urllib.request.urlopen('http://www.rcsb.org/pdb/files/%s.pdb' % pdb_code.lower())\n",
    "        txt = response.read().decode('utf-8')\n",
    "    except urllib.request.HTTPError as e:\n",
    "        print('HTTP Error %s' %e.code)\n",
    "    except urllib.request.URLError as e:\n",
    "        print('URL Error %s' %e.args) \n",
    "    return txt\n",
    "\n",
    "for i in iridium:\n",
    "    i = i.lower()\n",
    "    txt = fetch_pdb(i)\n",
    "    with open('./iridium_ht/%s.pdb' % i, 'w') as f:\n",
    "        f.write(txt)"
   ]
  },
  {
   "cell_type": "markdown",
   "metadata": {},
   "source": [
    "# Benchmarking biopython"
   ]
  },
  {
   "cell_type": "code",
   "execution_count": null,
   "metadata": {
    "collapsed": true
   },
   "outputs": [],
   "source": [
    "codes = [i for i in os.listdir('./iridium_ht/') if i.endswith('.pdb')]\n",
    "paths = [os.path.join('./iridium_ht/', i) for i in codes]\n",
    "codes = [i.strip('.pdb') for i in codes]"
   ]
  },
  {
   "cell_type": "code",
   "execution_count": null,
   "metadata": {
    "collapsed": true
   },
   "outputs": [],
   "source": [
    "import warnings\n",
    "warnings.filterwarnings('ignore')"
   ]
  },
  {
   "cell_type": "code",
   "execution_count": null,
   "metadata": {
    "collapsed": false
   },
   "outputs": [],
   "source": [
    "import os\n",
    "import timeit\n",
    "from Bio.PDB.PDBParser import PDBParser\n",
    "\n",
    "def biopython_getresidues(pdbcode, path):\n",
    "    parser = PDBParser()\n",
    "    structure = parser.get_structure(pdbcode, path)\n",
    "    res = []\n",
    "    for residue in structure.get_residues():\n",
    "        res.append(residue)\n",
    "    \n",
    "def f_test():\n",
    "    biopython_getatoms(c, p)\n",
    "\n",
    "bpython_times = []\n",
    "for c, p in zip(codes, paths):\n",
    "    t = timeit.timeit(\"f_test()\", setup=\"from __main__ import f_test\", number=10)\n",
    "    bpython_times.append((t/10))"
   ]
  },
  {
   "cell_type": "markdown",
   "metadata": {},
   "source": [
    "# Benchmarking biopandas"
   ]
  },
  {
   "cell_type": "code",
   "execution_count": null,
   "metadata": {
    "collapsed": false
   },
   "outputs": [],
   "source": [
    "import os\n",
    "import timeit\n",
    "from biopandas.pdb impport PandasPDB\n",
    "\n",
    "def biopandas_getatoms(path):\n",
    "    ppdb = PandasPDB().read_pdb(path)\n",
    "    residues = ppdb.df['ATOM']['resi_name']\n",
    "    \n",
    "def f_test():\n",
    "    biopandas_getatoms(p)\n",
    "\n",
    "bpandas_times = []\n",
    "for p in paths:\n",
    "    t = timeit.timeit(\"f_test()\", setup=\"from __main__ import f_test\", number=10)\n",
    "    bpandas_times.append((t/10))"
   ]
  },
  {
   "cell_type": "code",
   "execution_count": null,
   "metadata": {
    "collapsed": true
   },
   "outputs": [],
   "source": [
    "%matplotlib inline\n",
    "import matplotlib.pyplot as plt"
   ]
  },
  {
   "cell_type": "code",
   "execution_count": null,
   "metadata": {
    "collapsed": false
   },
   "outputs": [],
   "source": [
    "with plt.style.context('fivethirtyeight'):\n",
    "    fig = plt.figure(figsize=(29,4))\n",
    "\n",
    "    index = np.arange(n_groups)\n",
    "    bar_width = 0.2\n",
    "    opacity = 0.3\n",
    "\n",
    "    x = np.array(range(len(codes)))\n",
    "    rects1 = plt.bar(x, bpandas_times, bar_width,\n",
    "                     alpha=opacity,\n",
    "                     color='b',\n",
    "                     label='BioPandas')\n",
    "\n",
    "\n",
    "    rects2 = plt.bar(x + bar_width, bpython_times, bar_width,\n",
    "                     alpha=opacity,\n",
    "                     color='r',\n",
    "                     label='BioPython')\n",
    "\n",
    "\n",
    "    plt.xticks(x + bar_width, codes, rotation=90)\n",
    "    plt.legend()\n",
    "\n",
    "    plt.tight_layout()\n",
    "    plt.show()"
   ]
  },
  {
   "cell_type": "code",
   "execution_count": null,
   "metadata": {
    "collapsed": false
   },
   "outputs": [],
   "source": [
    "with plt.style.context('fivethirtyeight'):\n",
    "    plt.plot(x, bpandas_times, alpha=0.5, marker='o', label='BioPandas')\n",
    "    plt.plot(x, bpython_times, alpha=0.5, label='BioPython')\n",
    "    plt.ylabel('Time to extract residues [sec]')\n",
    "    plt.xlabel('PDBs from the Iridium Dataset')\n",
    "    plt.legend(numpoints=1)\n",
    "    plt.xticks([])\n",
    "plt.tight_layout()\n",
    "plt.show()"
   ]
  },
  {
   "cell_type": "code",
   "execution_count": null,
   "metadata": {
    "collapsed": false
   },
   "outputs": [],
   "source": [
    "with plt.style.context('fivethirtyeight'):\n",
    "    fig, axes = plt.subplots(nrows=1, ncols=1, figsize=(12, 5))\n",
    "\n",
    "    # generate some random test data\n",
    "    all_data = [bpython_times, bpandas_times]\n",
    "\n",
    "    # plot violin plot\n",
    "    axes.violinplot(all_data,\n",
    "                       showmeans=False,\n",
    "                       showmedians=True)\n",
    "    #axes.set_title('Extracing Atom Names')\n",
    "\n",
    "\n",
    "    # add x-tick labels\n",
    "    plt.setp(axes, xticks=[y+1 for y in range(len(all_data))],\n",
    "             xticklabels=['biopython', 'biopandas'])\n",
    "    plt.show()"
   ]
  },
  {
   "cell_type": "code",
   "execution_count": null,
   "metadata": {
    "collapsed": true
   },
   "outputs": [],
   "source": []
  }
 ],
 "metadata": {
  "kernelspec": {
   "display_name": "Python 3",
   "language": "python",
   "name": "python3"
  },
  "language_info": {
   "codemirror_mode": {
    "name": "ipython",
    "version": 3
   },
   "file_extension": ".py",
   "mimetype": "text/x-python",
   "name": "python",
   "nbconvert_exporter": "python",
   "pygments_lexer": "ipython3",
   "version": "3.5.0"
  }
 },
 "nbformat": 4,
 "nbformat_minor": 0
}
